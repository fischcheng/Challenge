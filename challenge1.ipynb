{
 "cells": [
  {
   "cell_type": "code",
   "execution_count": 1,
   "metadata": {
    "collapsed": true
   },
   "outputs": [],
   "source": [
    "import numpy as np\n",
    "import random\n",
    "from joblib import Parallel, delayed"
   ]
  },
  {
   "cell_type": "code",
   "execution_count": 2,
   "metadata": {},
   "outputs": [],
   "source": [
    "class Knight:\n",
    "    def __init__(self,x,y,hist):\n",
    "        self.x = x\n",
    "        self.y = y\n",
    "        #self.pos=(x,y)\n",
    "        self.hist = hist\n",
    "    #description = \"A knight on a 4x4 board\"\n",
    "    def move(self):\n",
    "        import random\n",
    "        offsets = [(1, 2), (1, -2), (-1, 2), (-1, -2), (2, 1), (2, -1), (-2, 1), (-2, -1)]    \n",
    "        possible_pos=[]\n",
    "        for move in offsets:  # try randomly chosen one\n",
    "            next_x = self.x + move[0]\n",
    "            next_y = self.y + move[1]\n",
    "            if (next_x > 4):\n",
    "                continue\n",
    "            elif (next_x < 1):\n",
    "                continue\n",
    "            elif (next_y > 4):\n",
    "                continue\n",
    "            elif (next_y < 1):\n",
    "                continue\n",
    "            else:\n",
    "                possible_pos.append((next_x, next_y)) \n",
    "        #return possible_pos\n",
    "        ranmove=random.choice(possible_pos)     \n",
    "        self.x=ranmove[0]\n",
    "        self.y=ranmove[1]\n",
    "        self.hist+=(4*(self.y-1)+self.x-1)\n",
    "        #print(self.hist)\n",
    "         \n",
    "def move(knight):\n",
    "    offsets = [(1, 2), (1, -2), (-1, 2), (-1, -2), (2, 1), (2, -1), (-2, 1), (-2, -1)]    \n",
    "    possible_pos=[]\n",
    "    now_pos=(knight.x,knight.y)\n",
    "    for move in offsets:\n",
    "        next_x = now_pos[0] + move[0]\n",
    "        next_y = now_pos[1] + move[1]\n",
    "        if (next_x > 4):\n",
    "            continue\n",
    "        elif (next_x < 1):\n",
    "            continue\n",
    "        elif (next_y > 4):\n",
    "            continue\n",
    "        elif (next_y < 1):\n",
    "            continue\n",
    "        else:\n",
    "            possible_pos.append((next_x, next_y)) \n",
    "    return possible_pos\n",
    "\n",
    "def move2(knight):\n",
    "    deltas = [(1, 2), (1, -2), (-1, 2), (-1, -2), (2, 1), (2, -1), (-2, 1), (-2, -1)]    \n",
    "    valid_position = lambda xy: all((xy[0] < 5, xy[1] < 5, xy[0] >= 1, xy[1] >= 1))\n",
    "    return list(filter(valid_position, map(lambda xy: (knight.x + xy[0], knight.y + xy[1]), deltas)))\n",
    "\n",
    "def S_sample(maxT):\n",
    "    #S_Tjumps=[]\n",
    "    k0=Knight(1,1,0)\n",
    "    for _ in range(0,maxT):\n",
    "        k0.move()\n",
    "    #S_Tjumps.append(k0.hist)\n",
    "    return k0.hist\n",
    "    #del k0\n",
    "        #print(S_Tjumps%13)\n",
    "\n",
    "        "
   ]
  },
  {
   "cell_type": "markdown",
   "metadata": {},
   "source": [
    "### Profiling, testing if parallel function is actually faster, as well as the generator form"
   ]
  },
  {
   "cell_type": "code",
   "execution_count": null,
   "metadata": {
    "collapsed": true
   },
   "outputs": [],
   "source": [
    "%%timeit -n1 -r1\n",
    "S_sampled=Parallel(n_jobs=4)(delayed(S_sample)(16) for _ in range(1000000))  ## slower than the original list comprehension"
   ]
  },
  {
   "cell_type": "code",
   "execution_count": 49,
   "metadata": {},
   "outputs": [
    {
     "name": "stdout",
     "output_type": "stream",
     "text": [
      "53.8 ms ± 2.91 ms per loop (mean ± std. dev. of 7 runs, 10 loops each)\n"
     ]
    }
   ],
   "source": [
    "%prun\n",
    "S_gen=(S_sample(16) for _ in range(1000))\n",
    "S_sampled2=np.array([i for i in S_gen])"
   ]
  },
  {
   "cell_type": "code",
   "execution_count": null,
   "metadata": {},
   "outputs": [],
   "source": [
    "%%timeit -n1 -r1\n",
    "S_sampled=np.array([S_sample(16) for _ in range(10000000)])  \n",
    "# so generator is no help \n",
    "# But 10000000 reptition, Parallel version is way faster (probably due to memory)"
   ]
  },
  {
   "cell_type": "markdown",
   "metadata": {},
   "source": [
    "### Actual calculation for the challenge"
   ]
  },
  {
   "cell_type": "code",
   "execution_count": 6,
   "metadata": {
    "collapsed": true
   },
   "outputs": [],
   "source": [
    "import time"
   ]
  },
  {
   "cell_type": "code",
   "execution_count": 10,
   "metadata": {},
   "outputs": [
    {
     "name": "stdout",
     "output_type": "stream",
     "text": [
      "mean of S modulo 311 = 138.07100000000\n",
      "std of S modulo 311 = 84.77838143654\n",
      "probability that S is divisible by 7, given divisible by 43 = 0.16666666667\n",
      "1.4923851490020752 sec\n"
     ]
    }
   ],
   "source": [
    "# T=512, use 10000 repitition\n",
    "start = time.time()\n",
    "S_sampled=Parallel(n_jobs=4)(delayed(S_sample)(512) for _ in range(1000))  # when over 100000 rep, almost half speed\n",
    "S512=np.array(S_sampled)\n",
    "S512_modulo=S512%311\n",
    "divble_43=len(S512[S512%43==0])\n",
    "divble_both=len(S512[(S512%43==0)&(S512%7==0)])\n",
    "prob=divble_both/divble_43\n",
    "print('mean of S modulo 311 = %10.11f' %S512_modulo.mean())\n",
    "print('std of S modulo 311 = %10.11f' %S512_modulo.std())\n",
    "print('probability that S is divisible by 7, given divisible by 43 = %10.11f' %prob)\n",
    "end = time.time()\n",
    "print(str(end - start)+' sec')"
   ]
  },
  {
   "cell_type": "code",
   "execution_count": 11,
   "metadata": {},
   "outputs": [
    {
     "name": "stdout",
     "output_type": "stream",
     "text": [
      "mean of S modulo 311 = 140.02820000000\n",
      "std of S modulo 311 = 82.74959458970\n",
      "probability that S is divisible by 7, given divisible by 43 = 0.12820512821\n",
      "7.43947696685791 sec\n"
     ]
    }
   ],
   "source": [
    "# T=512, use 10000 repitition\n",
    "start = time.time()\n",
    "S_sampled=Parallel(n_jobs=4)(delayed(S_sample)(512) for _ in range(5000))  # when over 100000 rep, almost half speed\n",
    "S512=np.array(S_sampled)\n",
    "S512_modulo=S512%311\n",
    "divble_43=len(S512[S512%43==0])\n",
    "divble_both=len(S512[(S512%43==0)&(S512%7==0)])\n",
    "prob=divble_both/divble_43\n",
    "print('mean of S modulo 311 = %10.11f' %S512_modulo.mean())\n",
    "print('std of S modulo 311 = %10.11f' %S512_modulo.std())\n",
    "print('probability that S is divisible by 7, given divisible by 43 = %10.11f' %prob)\n",
    "end = time.time()\n",
    "print(str(end - start)+' sec')"
   ]
  },
  {
   "cell_type": "code",
   "execution_count": 12,
   "metadata": {},
   "outputs": [
    {
     "name": "stdout",
     "output_type": "stream",
     "text": [
      "mean of S modulo 311 = 138.95620000000\n",
      "std of S modulo 311 = 82.21256158009\n",
      "probability that S is divisible by 7, given divisible by 43 = 0.15068493151\n",
      "14.34318494796753 sec\n"
     ]
    }
   ],
   "source": [
    "# T=512, use 10000 repitition\n",
    "start = time.time()\n",
    "S_sampled=Parallel(n_jobs=4)(delayed(S_sample)(512) for _ in range(10000))  # when over 100000 rep, almost half speed\n",
    "S512=np.array(S_sampled)\n",
    "S512_modulo=S512%311\n",
    "divble_43=len(S512[S512%43==0])\n",
    "divble_both=len(S512[(S512%43==0)&(S512%7==0)])\n",
    "prob=divble_both/divble_43\n",
    "print('mean of S modulo 311 = %10.11f' %S512_modulo.mean())\n",
    "print('std of S modulo 311 = %10.11f' %S512_modulo.std())\n",
    "print('probability that S is divisible by 7, given divisible by 43 = %10.11f' %prob)\n",
    "end = time.time()\n",
    "print(str(end - start)+' sec')"
   ]
  },
  {
   "cell_type": "code",
   "execution_count": 13,
   "metadata": {},
   "outputs": [
    {
     "name": "stdout",
     "output_type": "stream",
     "text": [
      "mean of S modulo 311 = 138.65673000000\n",
      "std of S modulo 311 = 81.74637016839\n",
      "probability that S is divisible by 7, given divisible by 43 = 0.14171572750\n",
      "160.46599340438843 sec\n"
     ]
    }
   ],
   "source": [
    "# T=512, use 10000 repitition\n",
    "start = time.time()\n",
    "S_sampled=Parallel(n_jobs=4)(delayed(S_sample)(512) for _ in range(100000))  # when over 100000 rep, almost half speed\n",
    "S512=np.array(S_sampled)\n",
    "S512_modulo=S512%311\n",
    "divble_43=len(S512[S512%43==0])\n",
    "divble_both=len(S512[(S512%43==0)&(S512%7==0)])\n",
    "prob=divble_both/divble_43\n",
    "print('mean of S modulo 311 = %10.11f' %S512_modulo.mean())\n",
    "print('std of S modulo 311 = %10.11f' %S512_modulo.std())\n",
    "print('probability that S is divisible by 7, given divisible by 43 = %10.11f' %prob)\n",
    "end = time.time()\n",
    "print(str(end - start)+' sec')"
   ]
  },
  {
   "cell_type": "code",
   "execution_count": 14,
   "metadata": {},
   "outputs": [
    {
     "name": "stdout",
     "output_type": "stream",
     "text": [
      "mean of S modulo 331 = 5.98418600000\n",
      "std of S modulo 331 = 3.73729767578\n",
      "probability that S is divisible by 7, given divisible by 43 = 0.27671517939\n",
      "58.27125096321106 sec\n"
     ]
    }
   ],
   "source": [
    "start = time.time()\n",
    "# T=16, use 100000 rep\n",
    "S_sampled=Parallel(n_jobs=4)(delayed(S_sample)(16) for _ in range(1000000))  # when over 100000 rep, almost half speed\n",
    "S16=np.array(S_sampled)\n",
    "S16_modulo=S16%13\n",
    "divble_13=len(S16[S16%13==0])\n",
    "divble_both=len(S16[(S16%13==0)&(S16%5==0)])\n",
    "prob=divble_both/divble_13\n",
    "print('mean of S modulo 331 = %10.11f' %S16_modulo.mean())\n",
    "print('std of S modulo 331 = %10.11f' %S16_modulo.std())\n",
    "print('probability that S is divisible by 7, given divisible by 43 = %10.11f' %prob)\n",
    "end = time.time()\n",
    "print(str(end - start)+' sec')"
   ]
  },
  {
   "cell_type": "markdown",
   "metadata": {},
   "source": [
    "### More Prototyping as well as explicit approach confirmation for T=16"
   ]
  },
  {
   "cell_type": "code",
   "execution_count": 458,
   "metadata": {},
   "outputs": [
    {
     "name": "stdout",
     "output_type": "stream",
     "text": [
      "mean of S modulo 13 = 5.96158000000\n",
      "std of S modulo 13 = 3.74644683715\n",
      "probability that S is divisible by 5, given divisible by 13 = 0.28208673790\n"
     ]
    }
   ],
   "source": [
    "S16_sampled=np.array(S_Tjumps)\n",
    "S16_modulo_sampled=S16_sampled%13\n",
    "divble_13=len(S16_sampled[S16_sampled%13==0])\n",
    "divble_both=len(S16_sampled[(S16_sampled%13==0)&(S16_sampled%5==0)])\n",
    "prob=divble_both/divble_13\n",
    "print('mean of S modulo 13 = %10.11f' %S16_modulo_sampled.mean())\n",
    "print('std of S modulo 13 = %10.11f' %S16_modulo_sampled.std())\n",
    "print('probability that S is divisible by 5, given divisible by 13 = %10.11f' %prob)"
   ]
  },
  {
   "cell_type": "code",
   "execution_count": 460,
   "metadata": {},
   "outputs": [
    {
     "name": "stdout",
     "output_type": "stream",
     "text": [
      "mean of S modulo 331 = 180.21500000000\n",
      "std of S modulo 331 = 79.77349669533\n",
      "probability that S is divisible by 7, given divisible by 43 = 0.21875000000\n"
     ]
    }
   ],
   "source": [
    "S512_sampled=np.array(S_Tjumps)\n",
    "S512_modulo_sampled=S512_sampled%331\n",
    "divble_43=len(S512_sampled[S512_sampled%43==0])\n",
    "divble_both=len(S512_sampled[(S512_sampled%43==0)&(S512_sampled%7==0)])\n",
    "prob=divble_both/divble_43\n",
    "print('mean of S modulo 331 = %10.11f' %S512_modulo_sampled.mean())\n",
    "print('std of S modulo 331 = %10.11f' %S512_modulo_sampled.std())\n",
    "print('probability that S is divisible by 7, given divisible by 43 = %10.11f' %prob)"
   ]
  },
  {
   "cell_type": "code",
   "execution_count": 17,
   "metadata": {},
   "outputs": [
    {
     "name": "stdout",
     "output_type": "stream",
     "text": [
      "[(1, 1), (2, 3)]\n",
      "[(1, 1), (3, 2)]\n",
      "# of nodes: 2\n"
     ]
    }
   ],
   "source": [
    "# T=1 >>> 2 nodes\n",
    "k={}\n",
    "k['k01']=Knight(1,1,[(1,1)])\n",
    "k_old=deepcopy(k)\n",
    "next_pos=move(k_old['k01'])\n",
    "for count,pos in enumerate(next_pos):\n",
    "    hist=deepcopy(k_old['k01'].hist)\n",
    "    hist.append(pos)\n",
    "    print(hist)\n",
    "    k['k{0}'.format(str(count+1).zfill(2))]=Knight(pos[0],pos[1],hist)\n",
    "print('# of nodes: '+str(len(k)))"
   ]
  },
  {
   "cell_type": "code",
   "execution_count": 18,
   "metadata": {},
   "outputs": [
    {
     "name": "stdout",
     "output_type": "stream",
     "text": [
      "# of nodes: 8\n"
     ]
    }
   ],
   "source": [
    "# T=2  >>> 8 nodes\n",
    "nk=0\n",
    "k_old=deepcopy(k)\n",
    "for key in k_old:\n",
    "    next_pos=move(k_old[key])\n",
    "    for count,pos in enumerate(next_pos):\n",
    "        hist=deepcopy(k_old[key].hist)\n",
    "        hist.append(pos)\n",
    "        #print(hist)\n",
    "        k['k{0}'.format(str(count+1+nk).zfill(2))]=Knight(pos[0],pos[1],hist)\n",
    "    nk=nk+len(next_pos)\n",
    "print('# of nodes: '+str(len(k)))"
   ]
  },
  {
   "cell_type": "code",
   "execution_count": 19,
   "metadata": {},
   "outputs": [
    {
     "name": "stdout",
     "output_type": "stream",
     "text": [
      "# of nodes: 20\n"
     ]
    }
   ],
   "source": [
    "# T=3 >>> 20 nodes\n",
    "nk=0\n",
    "k_old=deepcopy(k)\n",
    "for key in k_old:\n",
    "    next_pos=move(k_old[key])\n",
    "    for count,pos in enumerate(next_pos):\n",
    "        hist=deepcopy(k_old[key].hist)\n",
    "        hist.append(pos)\n",
    "        #print(hist)\n",
    "        k['k{0}'.format(str(count+1+nk).zfill(2))]=Knight(pos[0],pos[1],hist)\n",
    "    nk=nk+len(next_pos)\n",
    "print('# of nodes: '+str(len(k)))"
   ]
  },
  {
   "cell_type": "code",
   "execution_count": 71,
   "metadata": {},
   "outputs": [
    {
     "name": "stdout",
     "output_type": "stream",
     "text": [
      "101 µs ± 6.32 µs per loop (mean ± std. dev. of 7 runs, 10000 loops each)\n"
     ]
    }
   ],
   "source": [
    "%%timeit # much faster but still not possible for T=512\n",
    "for T in range(1,4):\n",
    "    if T == 1:\n",
    "        k={}\n",
    "        k['k000000000001']=Knight(1,1,0)\n",
    "    nk=0\n",
    "    k_old=k.copy()\n",
    "    for key in k_old:\n",
    "        next_pos=move(k_old[key])\n",
    "        for count,pos in enumerate(next_pos):\n",
    "            hist=k_old[key].hist\n",
    "            newsum=hist+(4*(pos[1]-1)+pos[0]-1)\n",
    "            #print(newsum)\n",
    "            k['k{0}'.format(str(count+1+nk).zfill(12))]=Knight(pos[0],pos[1],newsum)\n",
    "        nk=nk+len(next_pos)\n",
    "    #print('T = '+str(T)+' # of nodes: '+str(len(k)))"
   ]
  },
  {
   "cell_type": "code",
   "execution_count": 32,
   "metadata": {},
   "outputs": [
    {
     "name": "stdout",
     "output_type": "stream",
     "text": [
      "T = 1 # of nodes: 2\n",
      "T = 2 # of nodes: 8\n",
      "T = 3 # of nodes: 20\n",
      "T = 4 # of nodes: 72\n",
      "T = 5 # of nodes: 200\n",
      "T = 6 # of nodes: 672\n",
      "T = 7 # of nodes: 1968\n",
      "T = 8 # of nodes: 6368\n",
      "T = 9 # of nodes: 19168\n",
      "T = 10 # of nodes: 60800\n",
      "T = 11 # of nodes: 185664\n",
      "T = 12 # of nodes: 582784\n",
      "T = 13 # of nodes: 1793152\n",
      "T = 14 # of nodes: 5597696\n",
      "T = 15 # of nodes: 17292032\n",
      "T = 16 # of nodes: 53825024\n"
     ]
    }
   ],
   "source": [
    "#%%timeit # much faster but still not possible for T=512\n",
    "for T in range(1,17):\n",
    "    if T == 1:\n",
    "        k={}\n",
    "        k['k000000000001']=Knight(1,1,0)\n",
    "    nk=0\n",
    "    k_old=k.copy()\n",
    "    for key in k_old:\n",
    "        next_pos=move(k_old[key])\n",
    "        for count,pos in enumerate(next_pos):\n",
    "            hist=k_old[key].hist\n",
    "            newsum=hist+represent(pos)\n",
    "            #print(newsum)\n",
    "            k['k{0}'.format(str(count+1+nk).zfill(12))]=Knight(pos[0],pos[1],newsum)\n",
    "        nk=nk+len(next_pos)\n",
    "    print('T = '+str(T)+' # of nodes: '+str(len(k)))"
   ]
  },
  {
   "cell_type": "code",
   "execution_count": 39,
   "metadata": {},
   "outputs": [
    {
     "name": "stdout",
     "output_type": "stream",
     "text": [
      "5.98142386337\n",
      "3.74082329373\n"
     ]
    }
   ],
   "source": [
    "print(np.mean(aa%13))\n",
    "print(np.std(aa%13))"
   ]
  },
  {
   "cell_type": "code",
   "execution_count": 52,
   "metadata": {},
   "outputs": [
    {
     "name": "stdout",
     "output_type": "stream",
     "text": [
      "0.2757314766227167\n"
     ]
    }
   ],
   "source": [
    "# Question 1.5\n",
    "bb=aa[aa%13==0]\n",
    "cc=bb[bb%5==0]\n",
    "print(len(cc)/len(bb))"
   ]
  },
  {
   "cell_type": "code",
   "execution_count": 47,
   "metadata": {},
   "outputs": [],
   "source": [
    "dd=aa[(aa%13==0) & (aa%5==0)]"
   ]
  },
  {
   "cell_type": "code",
   "execution_count": 54,
   "metadata": {},
   "outputs": [
    {
     "data": {
      "text/plain": [
       "0.2757314766227167"
      ]
     },
     "execution_count": 54,
     "metadata": {},
     "output_type": "execute_result"
    }
   ],
   "source": [
    "len(dd)/len(aa)/(len(bb)/len(aa))"
   ]
  }
 ],
 "metadata": {
  "kernelspec": {
   "display_name": "Python 3",
   "language": "python",
   "name": "python3"
  },
  "language_info": {
   "codemirror_mode": {
    "name": "ipython",
    "version": 3
   },
   "file_extension": ".py",
   "mimetype": "text/x-python",
   "name": "python",
   "nbconvert_exporter": "python",
   "pygments_lexer": "ipython3",
   "version": "3.6.1"
  }
 },
 "nbformat": 4,
 "nbformat_minor": 2
}
