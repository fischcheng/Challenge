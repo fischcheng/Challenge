{
 "cells": [
  {
   "cell_type": "code",
   "execution_count": 1,
   "metadata": {},
   "outputs": [
    {
     "name": "stdout",
     "output_type": "stream",
     "text": [
      "Populating the interactive namespace from numpy and matplotlib\n"
     ]
    }
   ],
   "source": [
    "import numpy as np\n",
    "import pandas as pd\n",
    "import matplotlib.pyplot as plt\n",
    "%pylab inline"
   ]
  },
  {
   "cell_type": "code",
   "execution_count": 2,
   "metadata": {},
   "outputs": [],
   "source": [
    "dtype_Acc={'Accident_Index': str,'Location_Northing_OSGR': float,'Location_Easting_OSGR': float,'Longitude':float,\n",
    "           'Latitude':float,'Local_Authority_(Highway)':str,'LSOA_of_Accident_Location':str,'time'}\n",
    "parse_dates = ['Date']\n",
    "# Import fir few rows of three CSV files for inspection :\n",
    "Acc=pd.read_csv('Stats19_Data_2005-2014/Accidents0514.csv',parse_dates=parse_dates,dtype=dtype_Acc)\n",
    "Cas=pd.read_csv('Stats19_Data_2005-2014/Casualties0514.csv',dtype={'Accident_Index':str})  # all variables dtype=int\n",
    "Veh=pd.read_csv('Stats19_Data_2005-2014/Vehicles0514.csv',dtype={'Accident_Index':str})"
   ]
  },
  {
   "cell_type": "code",
   "execution_count": 7,
   "metadata": {},
   "outputs": [
    {
     "data": {
      "text/plain": [
       "'17'"
      ]
     },
     "execution_count": 7,
     "metadata": {},
     "output_type": "execute_result"
    }
   ],
   "source": [
    "Acc.Time[0][:2]"
   ]
  },
  {
   "cell_type": "code",
   "execution_count": 15,
   "metadata": {},
   "outputs": [
    {
     "ename": "ValueError",
     "evalue": "invalid literal for int() with base 10: 'na'",
     "output_type": "error",
     "traceback": [
      "\u001b[0;31m---------------------------------------------------------------------------\u001b[0m",
      "\u001b[0;31mValueError\u001b[0m                                Traceback (most recent call last)",
      "\u001b[0;32m<ipython-input-15-4fdc47ec621d>\u001b[0m in \u001b[0;36m<module>\u001b[0;34m()\u001b[0m\n\u001b[1;32m      1\u001b[0m \u001b[0;31m# Pandas Apply vs Map vs ApplyMap: https://stackoverflow.com/questions/19798153/difference-between-map-applymap-and-apply-methods-in-pandas\u001b[0m\u001b[0;34m\u001b[0m\u001b[0;34m\u001b[0m\u001b[0m\n\u001b[0;32m----> 2\u001b[0;31m \u001b[0mAcc\u001b[0m\u001b[0;34m[\u001b[0m\u001b[0;34m'Time'\u001b[0m\u001b[0;34m]\u001b[0m\u001b[0;34m.\u001b[0m\u001b[0mapply\u001b[0m\u001b[0;34m(\u001b[0m\u001b[0;32mlambda\u001b[0m \u001b[0mx\u001b[0m\u001b[0;34m:\u001b[0m \u001b[0mint\u001b[0m\u001b[0;34m(\u001b[0m\u001b[0mstr\u001b[0m\u001b[0;34m(\u001b[0m\u001b[0mx\u001b[0m\u001b[0;34m)\u001b[0m\u001b[0;34m[\u001b[0m\u001b[0;34m:\u001b[0m\u001b[0;36m2\u001b[0m\u001b[0;34m]\u001b[0m\u001b[0;34m)\u001b[0m\u001b[0;34m)\u001b[0m\u001b[0;34m\u001b[0m\u001b[0m\n\u001b[0m",
      "\u001b[0;32m~/anaconda/lib/python3.6/site-packages/pandas/core/series.py\u001b[0m in \u001b[0;36mapply\u001b[0;34m(self, func, convert_dtype, args, **kwds)\u001b[0m\n\u001b[1;32m   2353\u001b[0m             \u001b[0;32melse\u001b[0m\u001b[0;34m:\u001b[0m\u001b[0;34m\u001b[0m\u001b[0m\n\u001b[1;32m   2354\u001b[0m                 \u001b[0mvalues\u001b[0m \u001b[0;34m=\u001b[0m \u001b[0mself\u001b[0m\u001b[0;34m.\u001b[0m\u001b[0masobject\u001b[0m\u001b[0;34m\u001b[0m\u001b[0m\n\u001b[0;32m-> 2355\u001b[0;31m                 \u001b[0mmapped\u001b[0m \u001b[0;34m=\u001b[0m \u001b[0mlib\u001b[0m\u001b[0;34m.\u001b[0m\u001b[0mmap_infer\u001b[0m\u001b[0;34m(\u001b[0m\u001b[0mvalues\u001b[0m\u001b[0;34m,\u001b[0m \u001b[0mf\u001b[0m\u001b[0;34m,\u001b[0m \u001b[0mconvert\u001b[0m\u001b[0;34m=\u001b[0m\u001b[0mconvert_dtype\u001b[0m\u001b[0;34m)\u001b[0m\u001b[0;34m\u001b[0m\u001b[0m\n\u001b[0m\u001b[1;32m   2356\u001b[0m \u001b[0;34m\u001b[0m\u001b[0m\n\u001b[1;32m   2357\u001b[0m         \u001b[0;32mif\u001b[0m \u001b[0mlen\u001b[0m\u001b[0;34m(\u001b[0m\u001b[0mmapped\u001b[0m\u001b[0;34m)\u001b[0m \u001b[0;32mand\u001b[0m \u001b[0misinstance\u001b[0m\u001b[0;34m(\u001b[0m\u001b[0mmapped\u001b[0m\u001b[0;34m[\u001b[0m\u001b[0;36m0\u001b[0m\u001b[0;34m]\u001b[0m\u001b[0;34m,\u001b[0m \u001b[0mSeries\u001b[0m\u001b[0;34m)\u001b[0m\u001b[0;34m:\u001b[0m\u001b[0;34m\u001b[0m\u001b[0m\n",
      "\u001b[0;32mpandas/_libs/src/inference.pyx\u001b[0m in \u001b[0;36mpandas._libs.lib.map_infer (pandas/_libs/lib.c:66645)\u001b[0;34m()\u001b[0m\n",
      "\u001b[0;32m<ipython-input-15-4fdc47ec621d>\u001b[0m in \u001b[0;36m<lambda>\u001b[0;34m(x)\u001b[0m\n\u001b[1;32m      1\u001b[0m \u001b[0;31m# Pandas Apply vs Map vs ApplyMap: https://stackoverflow.com/questions/19798153/difference-between-map-applymap-and-apply-methods-in-pandas\u001b[0m\u001b[0;34m\u001b[0m\u001b[0;34m\u001b[0m\u001b[0m\n\u001b[0;32m----> 2\u001b[0;31m \u001b[0mAcc\u001b[0m\u001b[0;34m[\u001b[0m\u001b[0;34m'Time'\u001b[0m\u001b[0;34m]\u001b[0m\u001b[0;34m.\u001b[0m\u001b[0mapply\u001b[0m\u001b[0;34m(\u001b[0m\u001b[0;32mlambda\u001b[0m \u001b[0mx\u001b[0m\u001b[0;34m:\u001b[0m \u001b[0mint\u001b[0m\u001b[0;34m(\u001b[0m\u001b[0mstr\u001b[0m\u001b[0;34m(\u001b[0m\u001b[0mx\u001b[0m\u001b[0;34m)\u001b[0m\u001b[0;34m[\u001b[0m\u001b[0;34m:\u001b[0m\u001b[0;36m2\u001b[0m\u001b[0;34m]\u001b[0m\u001b[0;34m)\u001b[0m\u001b[0;34m)\u001b[0m\u001b[0;34m\u001b[0m\u001b[0m\n\u001b[0m",
      "\u001b[0;31mValueError\u001b[0m: invalid literal for int() with base 10: 'na'"
     ]
    }
   ],
   "source": [
    "# Pandas Apply vs Map vs ApplyMap: https://stackoverflow.com/questions/19798153/difference-between-map-applymap-and-apply-methods-in-pandas\n",
    "Acc['Time'].apply(lambda x: int(str(x)[:2]))"
   ]
  },
  {
   "cell_type": "code",
   "execution_count": 21,
   "metadata": {},
   "outputs": [],
   "source": [
    "Acc['Hour']=Acc['Time'].apply(lambda x: str(x)[:2])"
   ]
  },
  {
   "cell_type": "code",
   "execution_count": 45,
   "metadata": {},
   "outputs": [
    {
     "name": "stdout",
     "output_type": "stream",
     "text": [
      "fraction of urban accidents: 0.642656910868\n"
     ]
    }
   ],
   "source": [
    "# Question 1, fraction of Accident in Urban\n",
    "print('fraction of urban accidents: '+str(Acc.loc[Acc['Urban_or_Rural_Area']==1]['Accident_Index'].count()/Acc['Accident_Index'].count()))"
   ]
  },
  {
   "cell_type": "code",
   "execution_count": 92,
   "metadata": {},
   "outputs": [
    {
     "name": "stdout",
     "output_type": "stream",
     "text": [
      "linear trend of accidents from 2005 to 2014: -6511.72727273\n"
     ]
    },
    {
     "data": {
      "text/plain": [
       "[<matplotlib.lines.Line2D at 0x15096a048>]"
      ]
     },
     "execution_count": 92,
     "metadata": {},
     "output_type": "execute_result"
    },
    {
     "data": {
      "image/png": "[encoded data removed]",
      "text/plain": [
       "<matplotlib.figure.Figure at 0x1522164a8>"
      ]
     },
     "metadata": {},
     "output_type": "display_data"
    }
   ],
   "source": [
    "# Question 2 Linear trend in accident per year in Slope\n",
    "#Acc.Date.loc[0].year\n",
    "#Acc['Year']=Acc['Date'].apply(lambda x: x.year);\n",
    "acd_year=Acc.groupby('Year')['Accident_Index'].count().values\n",
    "\n",
    "from scipy import stats\n",
    "year=np.arange(len(acd_year))\n",
    "slope, intercept, r_value, p_value, std_err = stats.linregress(year,acd_year)\n",
    "\n",
    "print('linear trend of accidents from 2005 to 2014: '+str(slope))\n",
    "\n",
    "plt.figure()\n",
    "plt.plot(acd_year)\n",
    "plt.plot(year*slope+intercept,color='r')"
   ]
  },
  {
   "cell_type": "code",
   "execution_count": 122,
   "metadata": {},
   "outputs": [],
   "source": [
    "# Most dangerous hour fatal/all_accidents in the highest hour\n",
    "#'Number_of_Casualties'\n",
    "newdf=pd.merge(Acc[['Accident_Index','Hour']],Cas[['Accident_Index','Casualty_Severity']] , on='Accident_Index')\n",
    "accd_in_hour=newdf.drop_duplicates(subset='Accident_Index').groupby('Hour')['Accident_Index'].count().values\n",
    "fatal_in_hour=newdf[newdf['Casualty_Severity']==1].drop_duplicates(subset='Accident_Index').groupby('Hour')['Accident_Index'].count().values\n",
    "# highest percentage at 4AM\n",
    "np.max(fatal_in_hour/accd_in_hour)"
   ]
  },
  {
   "cell_type": "code",
   "execution_count": 156,
   "metadata": {},
   "outputs": [
    {
     "name": "stdout",
     "output_type": "stream",
     "text": [
      "Correlation betwee casualty ratio and speed limit: 0.965939055511\n"
     ]
    },
    {
     "data": {
      "text/plain": [
       "<matplotlib.collections.PathCollection at 0x1526b6cc0>"
      ]
     },
     "execution_count": 156,
     "metadata": {},
     "output_type": "execute_result"
    },
    {
     "data": {
      "image/png": "[encoded data removed]",
      "text/plain": [
       "<matplotlib.figure.Figure at 0x150cd6ac8>"
      ]
     },
     "metadata": {},
     "output_type": "display_data"
    }
   ],
   "source": [
    "# Correlation between #Cas/Accd and Speedlimit >> groupby #Speed_limit\n",
    "from scipy.stats import pearsonr\n",
    "Acc[['Accident_Index','Number_of_Casualties','Speed_limit']] #inspect the relevant columns\n",
    "\n",
    "cas_categories=Acc[['Accident_Index','Number_of_Casualties','Speed_limit']].groupby('Speed_limit').sum()['Number_of_Casualties'].values\n",
    "accd_categories=Acc[['Accident_Index','Number_of_Casualties','Speed_limit']].groupby('Speed_limit').count()['Accident_Index'].values\n",
    "speed_categories=Acc[['Accident_Index','Number_of_Casualties','Speed_limit']].groupby('Speed_limit').count()['Accident_Index'].index.values\n",
    "ratio=cas_categories/accd_categories\n",
    "r,p=pearsonr(ratio,speed_categories)\n",
    "print('Correlation betwee casualty ratio and speed limit: '+str(r))\n",
    "\n",
    "plt.figure()\n",
    "plt.scatter(speed_categories,ratio)"
   ]
  },
  {
   "cell_type": "code",
   "execution_count": 253,
   "metadata": {},
   "outputs": [
    {
     "name": "stdout",
     "output_type": "stream",
     "text": [
      "0.197027180824858\n",
      "0.3441703167623293\n",
      "1.7468164307150604\n"
     ]
    }
   ],
   "source": [
    "# bad weather/ good weather\n",
    "#Skidding_and_Overturning, Weather_Conditions, Accident_Index\n",
    "# GoodWeather vs Precipitation\n",
    "goodweather=Acc[Acc['Weather_Conditions']==1][['Accident_Index','Weather_Conditions']]\n",
    "newdf_wet=Acc[Acc['Weather_Conditions'] ==2 ][['Accident_Index','Weather_Conditions']]\n",
    "newdf_wet2=Acc[Acc['Weather_Conditions'] ==3 ][['Accident_Index','Weather_Conditions']]\n",
    "newdf_wet3=Acc[Acc['Weather_Conditions'] ==5 ][['Accident_Index','Weather_Conditions']]\n",
    "newdf_wet4=Acc[Acc['Weather_Conditions'] ==6 ][['Accident_Index','Weather_Conditions']]\n",
    "result=newdf_wet.append(newdf_wet2,ignore_index=True)\n",
    "result2=result.append(newdf_wet3,ignore_index=True)\n",
    "wetsurface=result2.append(newdf_wet4,ignore_index=True)\n",
    "\n",
    "# Find the kind of vehicle move:\n",
    "subVeh=Veh[Veh['Skidding_and_Overturning']>0][['Accident_Index','Skidding_and_Overturning']].drop_duplicates(subset='Accident_Index')\n",
    "\n",
    "df1=pd.merge(goodweather,subVeh, on='Accident_Index')\n",
    "df2=pd.merge(wetsurface,subVeh, on='Accident_Index')\n",
    "\n",
    "r1=len(df1)/len(goodweather)\n",
    "r2=len(df2)/len(wetsurface)\n",
    "print(r1)\n",
    "print(r2)\n",
    "print(r2/r1)"
   ]
  },
  {
   "cell_type": "code",
   "execution_count": 429,
   "metadata": {
    "collapsed": true
   },
   "outputs": [],
   "source": [
    "#More Fetal Accidents have Male driver''s involved\n",
    "\n",
    "male_driver=Veh[(Veh['Sex_of_Driver']==1)&(Veh['Vehicle_Manoeuvre']!=2)][['Accident_Index','Sex_of_Driver']].drop_duplicates(subset='Accident_Index')\n",
    "female_driver=Veh[(Veh['Sex_of_Driver']==2)&(Veh['Vehicle_Manoeuvre']!=2)][['Accident_Index','Sex_of_Driver']].drop_duplicates(subset='Accident_Index')\n",
    "\n",
    "newdf_male_cas=pd.merge(male_driver, Cas[['Accident_Index','Casualty_Severity']], on='Accident_Index', how='inner')#.drop_duplicates(subset='Accident_Index')\n",
    "newdf_female_cas=pd.merge(female_driver, Cas[['Accident_Index','Casualty_Severity']], on='Accident_Index', how='inner')#.drop_duplicates(subset='Accident_Index')\n",
    "\n",
    "Total_m=newdf_male_cas.drop_duplicates(subset='Accident_Index')\n",
    "Total_f=newdf_female_cas.drop_duplicates(subset='Accident_Index')\n",
    "\n",
    "Fetal_m=newdf_male_cas[newdf_male_cas['Casualty_Severity']==1].drop_duplicates(subset='Accident_Index')\n",
    "Fetal_f=newdf_female_cas[newdf_female_cas['Casualty_Severity']==1].drop_duplicates(subset='Accident_Index')\n",
    "\n",
    "r_m=len(Fetal_m)/len(Total_m)\n",
    "r_f=len(Fetal_f)/len(Total_f)\n",
    "ratio=r_m/r_f\n",
    "print(\"Fatal incidents with driver's sex considered ratio M/F: \" +str(ratio))"
   ]
  },
  {
   "cell_type": "code",
   "execution_count": 435,
   "metadata": {},
   "outputs": [
    {
     "name": "stdout",
     "output_type": "stream",
     "text": [
      "22822.386423\n"
     ]
    }
   ],
   "source": [
    "# Area of police district\n",
    "# sem-axis of the elipse is 1std of lon and lat for the same district\n",
    "# area of elipse = np.pi*a*b in squar-kilometer (convert lat lon to km first)\n",
    "# \"Police_Force\" is the district, groupby\n",
    "# \n",
    "\n",
    "Lat_district=Acc[['Accident_Index','Latitude','Longitude','Police_Force']].groupby('Police_Force')[['Latitude','Longitude']].std().Latitude\n",
    "Lon_district=Acc[['Accident_Index','Latitude','Longitude','Police_Force']].groupby('Police_Force')[['Latitude','Longitude']].std().Longitude#.values\n",
    "\n",
    "Re=6371 #Earth radius in km\n",
    "LatKM=Re*np.radians(Lat_district)\n",
    "LonKM=Re*np.cos(np.radians(51))*np.radians(Lon_district)\n",
    "\n",
    "Area_district=LatKM*LonKM*np.pi\n",
    "print(np.max(Area_district))"
   ]
  },
  {
   "cell_type": "code",
   "execution_count": 348,
   "metadata": {
    "collapsed": true
   },
   "outputs": [],
   "source": [
    "## Find the exponential decay rate of accidents and driver's age (over 17)\n",
    "from scipy.optimize import curve_fit\n",
    "Driver_age=Veh[['Accident_Index','Age_of_Driver']]\n",
    "Adult_driver=Driver_age[Driver_age['Age_of_Driver']>17]\n",
    "histo_driver,edge=np.histogram(Adult_driver['Age_of_Driver'],bins=10)\n"
   ]
  },
  {
   "cell_type": "code",
   "execution_count": 387,
   "metadata": {},
   "outputs": [
    {
     "data": {
      "text/plain": [
       "[<matplotlib.lines.Line2D at 0x18d09f048>]"
      ]
     },
     "execution_count": 387,
     "metadata": {},
     "output_type": "execute_result"
    },
    {
     "data": {
      "image/png": "[encoded data removed]",
      "text/plain": [
       "<matplotlib.figure.Figure at 0x18d0829b0>"
      ]
     },
     "metadata": {},
     "output_type": "display_data"
    }
   ],
   "source": [
    "def func(x, a, b, c):\n",
    "    return a * np.exp(-b * x) + c\n",
    "popt, pcov = curve_fit(func, edge[0:len(histo_driver)], histo_driver,p0=(600000, 0.01,-600000))\n",
    "plt.figure()\n",
    "plt.plot(edge[0:len(histo_driver)],histo_driver)\n",
    "plt.plot(edge, func(edge, *popt), 'r-', label='fit')"
   ]
  },
  {
   "cell_type": "code",
   "execution_count": 384,
   "metadata": {},
   "outputs": [
    {
     "data": {
      "text/plain": [
       "[<matplotlib.lines.Line2D at 0x18d082438>]"
      ]
     },
     "execution_count": 384,
     "metadata": {},
     "output_type": "execute_result"
    },
    {
     "data": {
      "image/png": "[encoded data removed]",
      "text/plain": [
       "<matplotlib.figure.Figure at 0x18b6729b0>"
      ]
     },
     "metadata": {},
     "output_type": "display_data"
    }
   ],
   "source": [
    "x=np.arange(17,100)\n",
    "y=func(x,popt[0],popt[1],popt[2])\n",
    "plt.plot(x,y)"
   ]
  },
  {
   "cell_type": "code",
   "execution_count": 389,
   "metadata": {},
   "outputs": [
    {
     "data": {
      "text/plain": [
       "array([  1.48365810e+06,   1.03991637e-02,  -6.06574604e+05])"
      ]
     },
     "execution_count": 389,
     "metadata": {},
     "output_type": "execute_result"
    }
   ],
   "source": [
    "popt"
   ]
  },
  {
   "cell_type": "code",
   "execution_count": 390,
   "metadata": {},
   "outputs": [
    {
     "data": {
      "text/plain": [
       "0.01039916367954451"
      ]
     },
     "execution_count": 390,
     "metadata": {},
     "output_type": "execute_result"
    }
   ],
   "source": [
    "popt[1]"
   ]
  },
  {
   "cell_type": "code",
   "execution_count": 344,
   "metadata": {},
   "outputs": [
    {
     "data": {
      "text/plain": [
       "array([620872, 475589, 473810, 405142, 268222, 185024,  78769,  46434,\n",
       "        15675,   1198])"
      ]
     },
     "execution_count": 344,
     "metadata": {},
     "output_type": "execute_result"
    }
   ],
   "source": [
    "histo_driver\n",
    "curve_fit(lambda t,a,b: a*numpy.exp(b*t),  x,  y)"
   ]
  },
  {
   "cell_type": "code",
   "execution_count": 345,
   "metadata": {},
   "outputs": [
    {
     "data": {
      "text/plain": [
       "[<matplotlib.lines.Line2D at 0x2955696a0>]"
      ]
     },
     "execution_count": 345,
     "metadata": {},
     "output_type": "execute_result"
    },
    {
     "data": {
      "image/png": "[encoded data removed]",
      "text/plain": [
       "<matplotlib.figure.Figure at 0x29562c1d0>"
      ]
     },
     "metadata": {},
     "output_type": "display_data"
    }
   ],
   "source": [
    "plt.plot(histo_driver)\n"
   ]
  },
  {
   "cell_type": "code",
   "execution_count": 95,
   "metadata": {},
   "outputs": [
    {
     "data": {
      "text/plain": [
       "Series([], Name: Accident_Index, dtype: object)"
      ]
     },
     "execution_count": 95,
     "metadata": {},
     "output_type": "execute_result"
    }
   ],
   "source": [
    "Acc['Accident_Index'][Acc['Hour']==nan]"
   ]
  },
  {
   "cell_type": "code",
   "execution_count": 84,
   "metadata": {},
   "outputs": [
    {
     "data": {
      "text/plain": [
       "Accident_Index    189161\n",
       "Year              189161\n",
       "dtype: int64"
      ]
     },
     "execution_count": 84,
     "metadata": {},
     "output_type": "execute_result"
    }
   ],
   "source": [
    "Acc[Acc.Year==2006][['Accident_Index','Year']].count()"
   ]
  },
  {
   "cell_type": "code",
   "execution_count": 33,
   "metadata": {},
   "outputs": [
    {
     "data": {
      "text/html": [
       "<div>\n",
       "<style>\n",
       "    .dataframe thead tr:only-child th {\n",
       "        text-align: right;\n",
       "    }\n",
       "\n",
       "    .dataframe thead th {\n",
       "        text-align: left;\n",
       "    }\n",
       "\n",
       "    .dataframe tbody tr th {\n",
       "        vertical-align: top;\n",
       "    }\n",
       "</style>\n",
       "<table border=\"1\" class=\"dataframe\">\n",
       "  <thead>\n",
       "    <tr style=\"text-align: right;\">\n",
       "      <th></th>\n",
       "      <th>Location_Easting_OSGR</th>\n",
       "      <th>Location_Northing_OSGR</th>\n",
       "      <th>Longitude</th>\n",
       "      <th>Latitude</th>\n",
       "      <th>Police_Force</th>\n",
       "      <th>Accident_Severity</th>\n",
       "      <th>Number_of_Vehicles</th>\n",
       "      <th>Number_of_Casualties</th>\n",
       "      <th>Day_of_Week</th>\n",
       "      <th>Local_Authority_(District)</th>\n",
       "      <th>...</th>\n",
       "      <th>2nd_Road_Number</th>\n",
       "      <th>Pedestrian_Crossing-Human_Control</th>\n",
       "      <th>Pedestrian_Crossing-Physical_Facilities</th>\n",
       "      <th>Light_Conditions</th>\n",
       "      <th>Weather_Conditions</th>\n",
       "      <th>Road_Surface_Conditions</th>\n",
       "      <th>Special_Conditions_at_Site</th>\n",
       "      <th>Carriageway_Hazards</th>\n",
       "      <th>Urban_or_Rural_Area</th>\n",
       "      <th>Did_Police_Officer_Attend_Scene_of_Accident</th>\n",
       "    </tr>\n",
       "  </thead>\n",
       "  <tbody>\n",
       "    <tr>\n",
       "      <th>count</th>\n",
       "      <td>1.640486e+06</td>\n",
       "      <td>1.640486e+06</td>\n",
       "      <td>1.640486e+06</td>\n",
       "      <td>1.640486e+06</td>\n",
       "      <td>1.640597e+06</td>\n",
       "      <td>1.640597e+06</td>\n",
       "      <td>1.640597e+06</td>\n",
       "      <td>1.640597e+06</td>\n",
       "      <td>1.640597e+06</td>\n",
       "      <td>1.640597e+06</td>\n",
       "      <td>...</td>\n",
       "      <td>1.640597e+06</td>\n",
       "      <td>1.640597e+06</td>\n",
       "      <td>1.640597e+06</td>\n",
       "      <td>1.640597e+06</td>\n",
       "      <td>1.640597e+06</td>\n",
       "      <td>1.640597e+06</td>\n",
       "      <td>1.640597e+06</td>\n",
       "      <td>1.640597e+06</td>\n",
       "      <td>1.640597e+06</td>\n",
       "      <td>1.640597e+06</td>\n",
       "    </tr>\n",
       "    <tr>\n",
       "      <th>mean</th>\n",
       "      <td>4.396051e+05</td>\n",
       "      <td>2.992476e+05</td>\n",
       "      <td>-1.436955e+00</td>\n",
       "      <td>5.258114e+01</td>\n",
       "      <td>3.082617e+01</td>\n",
       "      <td>2.838592e+00</td>\n",
       "      <td>1.831300e+00</td>\n",
       "      <td>1.351167e+00</td>\n",
       "      <td>4.117038e+00</td>\n",
       "      <td>3.540821e+02</td>\n",
       "      <td>...</td>\n",
       "      <td>3.795958e+02</td>\n",
       "      <td>9.437418e-03</td>\n",
       "      <td>7.288530e-01</td>\n",
       "      <td>1.950406e+00</td>\n",
       "      <td>1.581204e+00</td>\n",
       "      <td>1.363473e+00</td>\n",
       "      <td>1.099368e-01</td>\n",
       "      <td>7.308498e-02</td>\n",
       "      <td>1.357430e+00</td>\n",
       "      <td>1.193024e+00</td>\n",
       "    </tr>\n",
       "    <tr>\n",
       "      <th>std</th>\n",
       "      <td>9.550360e+04</td>\n",
       "      <td>1.614937e+05</td>\n",
       "      <td>1.404020e+00</td>\n",
       "      <td>1.454157e+00</td>\n",
       "      <td>2.554203e+01</td>\n",
       "      <td>4.017734e-01</td>\n",
       "      <td>7.152789e-01</td>\n",
       "      <td>8.260983e-01</td>\n",
       "      <td>1.924815e+00</td>\n",
       "      <td>2.593715e+02</td>\n",
       "      <td>...</td>\n",
       "      <td>1.300225e+03</td>\n",
       "      <td>1.280032e-01</td>\n",
       "      <td>1.808608e+00</td>\n",
       "      <td>1.648006e+00</td>\n",
       "      <td>1.652381e+00</td>\n",
       "      <td>6.296258e-01</td>\n",
       "      <td>7.331669e-01</td>\n",
       "      <td>6.229790e-01</td>\n",
       "      <td>4.794250e-01</td>\n",
       "      <td>4.007670e-01</td>\n",
       "    </tr>\n",
       "    <tr>\n",
       "      <th>min</th>\n",
       "      <td>6.495000e+04</td>\n",
       "      <td>1.029000e+04</td>\n",
       "      <td>-7.516225e+00</td>\n",
       "      <td>4.991294e+01</td>\n",
       "      <td>1.000000e+00</td>\n",
       "      <td>1.000000e+00</td>\n",
       "      <td>1.000000e+00</td>\n",
       "      <td>1.000000e+00</td>\n",
       "      <td>1.000000e+00</td>\n",
       "      <td>1.000000e+00</td>\n",
       "      <td>...</td>\n",
       "      <td>-1.000000e+00</td>\n",
       "      <td>-1.000000e+00</td>\n",
       "      <td>-1.000000e+00</td>\n",
       "      <td>1.000000e+00</td>\n",
       "      <td>-1.000000e+00</td>\n",
       "      <td>-1.000000e+00</td>\n",
       "      <td>-1.000000e+00</td>\n",
       "      <td>-1.000000e+00</td>\n",
       "      <td>1.000000e+00</td>\n",
       "      <td>-1.000000e+00</td>\n",
       "    </tr>\n",
       "    <tr>\n",
       "      <th>25%</th>\n",
       "      <td>3.754842e+05</td>\n",
       "      <td>1.781200e+05</td>\n",
       "      <td>-2.367761e+00</td>\n",
       "      <td>5.148886e+01</td>\n",
       "      <td>7.000000e+00</td>\n",
       "      <td>3.000000e+00</td>\n",
       "      <td>1.000000e+00</td>\n",
       "      <td>1.000000e+00</td>\n",
       "      <td>2.000000e+00</td>\n",
       "      <td>1.220000e+02</td>\n",
       "      <td>...</td>\n",
       "      <td>0.000000e+00</td>\n",
       "      <td>0.000000e+00</td>\n",
       "      <td>0.000000e+00</td>\n",
       "      <td>1.000000e+00</td>\n",
       "      <td>1.000000e+00</td>\n",
       "      <td>1.000000e+00</td>\n",
       "      <td>0.000000e+00</td>\n",
       "      <td>0.000000e+00</td>\n",
       "      <td>1.000000e+00</td>\n",
       "      <td>1.000000e+00</td>\n",
       "    </tr>\n",
       "    <tr>\n",
       "      <th>50%</th>\n",
       "      <td>4.403800e+05</td>\n",
       "      <td>2.666200e+05</td>\n",
       "      <td>-1.398668e+00</td>\n",
       "      <td>5.229034e+01</td>\n",
       "      <td>3.100000e+01</td>\n",
       "      <td>3.000000e+00</td>\n",
       "      <td>2.000000e+00</td>\n",
       "      <td>1.000000e+00</td>\n",
       "      <td>4.000000e+00</td>\n",
       "      <td>3.280000e+02</td>\n",
       "      <td>...</td>\n",
       "      <td>0.000000e+00</td>\n",
       "      <td>0.000000e+00</td>\n",
       "      <td>0.000000e+00</td>\n",
       "      <td>1.000000e+00</td>\n",
       "      <td>1.000000e+00</td>\n",
       "      <td>1.000000e+00</td>\n",
       "      <td>0.000000e+00</td>\n",
       "      <td>0.000000e+00</td>\n",
       "      <td>1.000000e+00</td>\n",
       "      <td>1.000000e+00</td>\n",
       "    </tr>\n",
       "    <tr>\n",
       "      <th>75%</th>\n",
       "      <td>5.230200e+05</td>\n",
       "      <td>3.969900e+05</td>\n",
       "      <td>-2.216495e-01</td>\n",
       "      <td>5.346786e+01</td>\n",
       "      <td>4.600000e+01</td>\n",
       "      <td>3.000000e+00</td>\n",
       "      <td>2.000000e+00</td>\n",
       "      <td>1.000000e+00</td>\n",
       "      <td>6.000000e+00</td>\n",
       "      <td>5.320000e+02</td>\n",
       "      <td>...</td>\n",
       "      <td>0.000000e+00</td>\n",
       "      <td>0.000000e+00</td>\n",
       "      <td>0.000000e+00</td>\n",
       "      <td>4.000000e+00</td>\n",
       "      <td>1.000000e+00</td>\n",
       "      <td>2.000000e+00</td>\n",
       "      <td>0.000000e+00</td>\n",
       "      <td>0.000000e+00</td>\n",
       "      <td>2.000000e+00</td>\n",
       "      <td>1.000000e+00</td>\n",
       "    </tr>\n",
       "    <tr>\n",
       "      <th>max</th>\n",
       "      <td>6.555400e+05</td>\n",
       "      <td>1.208800e+06</td>\n",
       "      <td>1.762010e+00</td>\n",
       "      <td>6.075754e+01</td>\n",
       "      <td>9.800000e+01</td>\n",
       "      <td>3.000000e+00</td>\n",
       "      <td>6.700000e+01</td>\n",
       "      <td>9.300000e+01</td>\n",
       "      <td>7.000000e+00</td>\n",
       "      <td>9.410000e+02</td>\n",
       "      <td>...</td>\n",
       "      <td>9.999000e+03</td>\n",
       "      <td>2.000000e+00</td>\n",
       "      <td>8.000000e+00</td>\n",
       "      <td>7.000000e+00</td>\n",
       "      <td>9.000000e+00</td>\n",
       "      <td>5.000000e+00</td>\n",
       "      <td>7.000000e+00</td>\n",
       "      <td>7.000000e+00</td>\n",
       "      <td>3.000000e+00</td>\n",
       "      <td>3.000000e+00</td>\n",
       "    </tr>\n",
       "  </tbody>\n",
       "</table>\n",
       "<p>8 rows × 27 columns</p>\n",
       "</div>"
      ],
      "text/plain": [
       "       Location_Easting_OSGR  Location_Northing_OSGR     Longitude  \\\n",
       "count           1.640486e+06            1.640486e+06  1.640486e+06   \n",
       "mean            4.396051e+05            2.992476e+05 -1.436955e+00   \n",
       "std             9.550360e+04            1.614937e+05  1.404020e+00   \n",
       "min             6.495000e+04            1.029000e+04 -7.516225e+00   \n",
       "25%             3.754842e+05            1.781200e+05 -2.367761e+00   \n",
       "50%             4.403800e+05            2.666200e+05 -1.398668e+00   \n",
       "75%             5.230200e+05            3.969900e+05 -2.216495e-01   \n",
       "max             6.555400e+05            1.208800e+06  1.762010e+00   \n",
       "\n",
       "           Latitude  Police_Force  Accident_Severity  Number_of_Vehicles  \\\n",
       "count  1.640486e+06  1.640597e+06       1.640597e+06        1.640597e+06   \n",
       "mean   5.258114e+01  3.082617e+01       2.838592e+00        1.831300e+00   \n",
       "std    1.454157e+00  2.554203e+01       4.017734e-01        7.152789e-01   \n",
       "min    4.991294e+01  1.000000e+00       1.000000e+00        1.000000e+00   \n",
       "25%    5.148886e+01  7.000000e+00       3.000000e+00        1.000000e+00   \n",
       "50%    5.229034e+01  3.100000e+01       3.000000e+00        2.000000e+00   \n",
       "75%    5.346786e+01  4.600000e+01       3.000000e+00        2.000000e+00   \n",
       "max    6.075754e+01  9.800000e+01       3.000000e+00        6.700000e+01   \n",
       "\n",
       "       Number_of_Casualties   Day_of_Week  Local_Authority_(District)  \\\n",
       "count          1.640597e+06  1.640597e+06                1.640597e+06   \n",
       "mean           1.351167e+00  4.117038e+00                3.540821e+02   \n",
       "std            8.260983e-01  1.924815e+00                2.593715e+02   \n",
       "min            1.000000e+00  1.000000e+00                1.000000e+00   \n",
       "25%            1.000000e+00  2.000000e+00                1.220000e+02   \n",
       "50%            1.000000e+00  4.000000e+00                3.280000e+02   \n",
       "75%            1.000000e+00  6.000000e+00                5.320000e+02   \n",
       "max            9.300000e+01  7.000000e+00                9.410000e+02   \n",
       "\n",
       "                          ...                       2nd_Road_Number  \\\n",
       "count                     ...                          1.640597e+06   \n",
       "mean                      ...                          3.795958e+02   \n",
       "std                       ...                          1.300225e+03   \n",
       "min                       ...                         -1.000000e+00   \n",
       "25%                       ...                          0.000000e+00   \n",
       "50%                       ...                          0.000000e+00   \n",
       "75%                       ...                          0.000000e+00   \n",
       "max                       ...                          9.999000e+03   \n",
       "\n",
       "       Pedestrian_Crossing-Human_Control  \\\n",
       "count                       1.640597e+06   \n",
       "mean                        9.437418e-03   \n",
       "std                         1.280032e-01   \n",
       "min                        -1.000000e+00   \n",
       "25%                         0.000000e+00   \n",
       "50%                         0.000000e+00   \n",
       "75%                         0.000000e+00   \n",
       "max                         2.000000e+00   \n",
       "\n",
       "       Pedestrian_Crossing-Physical_Facilities  Light_Conditions  \\\n",
       "count                             1.640597e+06      1.640597e+06   \n",
       "mean                              7.288530e-01      1.950406e+00   \n",
       "std                               1.808608e+00      1.648006e+00   \n",
       "min                              -1.000000e+00      1.000000e+00   \n",
       "25%                               0.000000e+00      1.000000e+00   \n",
       "50%                               0.000000e+00      1.000000e+00   \n",
       "75%                               0.000000e+00      4.000000e+00   \n",
       "max                               8.000000e+00      7.000000e+00   \n",
       "\n",
       "       Weather_Conditions  Road_Surface_Conditions  \\\n",
       "count        1.640597e+06             1.640597e+06   \n",
       "mean         1.581204e+00             1.363473e+00   \n",
       "std          1.652381e+00             6.296258e-01   \n",
       "min         -1.000000e+00            -1.000000e+00   \n",
       "25%          1.000000e+00             1.000000e+00   \n",
       "50%          1.000000e+00             1.000000e+00   \n",
       "75%          1.000000e+00             2.000000e+00   \n",
       "max          9.000000e+00             5.000000e+00   \n",
       "\n",
       "       Special_Conditions_at_Site  Carriageway_Hazards  Urban_or_Rural_Area  \\\n",
       "count                1.640597e+06         1.640597e+06         1.640597e+06   \n",
       "mean                 1.099368e-01         7.308498e-02         1.357430e+00   \n",
       "std                  7.331669e-01         6.229790e-01         4.794250e-01   \n",
       "min                 -1.000000e+00        -1.000000e+00         1.000000e+00   \n",
       "25%                  0.000000e+00         0.000000e+00         1.000000e+00   \n",
       "50%                  0.000000e+00         0.000000e+00         1.000000e+00   \n",
       "75%                  0.000000e+00         0.000000e+00         2.000000e+00   \n",
       "max                  7.000000e+00         7.000000e+00         3.000000e+00   \n",
       "\n",
       "       Did_Police_Officer_Attend_Scene_of_Accident  \n",
       "count                                 1.640597e+06  \n",
       "mean                                  1.193024e+00  \n",
       "std                                   4.007670e-01  \n",
       "min                                  -1.000000e+00  \n",
       "25%                                   1.000000e+00  \n",
       "50%                                   1.000000e+00  \n",
       "75%                                   1.000000e+00  \n",
       "max                                   3.000000e+00  \n",
       "\n",
       "[8 rows x 27 columns]"
      ]
     },
     "execution_count": 33,
     "metadata": {},
     "output_type": "execute_result"
    }
   ],
   "source": [
    "Acc.describe()"
   ]
  },
  {
   "cell_type": "code",
   "execution_count": 24,
   "metadata": {},
   "outputs": [],
   "source": [
    "#import dask.dataframe as dd\n",
    "#ACC_df = dd.read_csv('Stats19_Data_2005-2014/Accidents0514.csv',dtype={'Location_Easting_OSGR': float,'Location_Northing_OSGR': float})"
   ]
  }
 ],
 "metadata": {
  "kernelspec": {
   "display_name": "Python 3",
   "language": "python",
   "name": "python3"
  },
  "language_info": {
   "codemirror_mode": {
    "name": "ipython",
    "version": 3
   },
   "file_extension": ".py",
   "mimetype": "text/x-python",
   "name": "python",
   "nbconvert_exporter": "python",
   "pygments_lexer": "ipython3",
   "version": "3.6.1"
  }
 },
 "nbformat": 4,
 "nbformat_minor": 2
}
